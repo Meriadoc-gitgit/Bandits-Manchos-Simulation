{
 "cells": [
  {
   "cell_type": "markdown",
   "id": "5c0c4918",
   "metadata": {},
   "source": [
    "# Combinatoire du [Puissance 4](https://fr.wikipedia.org/wiki/Puissance_4)\n",
    ">**Objectif** : Implémentation du jeu + Étude combinatoire du jeu\n",
    "\n",
    "---"
   ]
  },
  {
   "cell_type": "markdown",
   "id": "34a55682",
   "metadata": {},
   "source": [
    "## Membres du binômes\n",
    "### VU Hoang Thuy Duong\n",
    "[LinkedIn](https://www.linkedin.com/in/meriadocdgv/) | [Github](https://github.com/Meriadoc-gitgit)\n",
    "- **Numéro d'étudiante : 21110221**\n",
    "- Groupe : 1 *(Statistique et Informatique - LU3IN005)*\n",
    "- Email : vuhoang.thduong@gmail.com\n",
    "    \n",
    "    \n",
    "### Halimatou DIALLO\n",
    "[LinkedIn](https://www.linkedin.com/in/diallo-halima/) | [Github](https://github.com/limadiallo)\n",
    "- **Numéro d'étudiante : 21114613**\n",
    "- Groupe : 1 *(Statistique et Informatique - LU3IN005)*\n",
    "- Email : \n",
    "    \n",
    "    \n",
    "## Instructeur\n",
    "### M. Maxime Bouthors\n",
    "Adresse mail : bouthors@isir.upmc.fr\n",
    "\n",
    "---"
   ]
  },
  {
   "cell_type": "markdown",
   "id": "66341426",
   "metadata": {},
   "source": [
    "# Introduction\n",
    "---"
   ]
  },
  {
   "cell_type": "markdown",
   "id": "b22183ee",
   "metadata": {},
   "source": [
    "# Modèle basique"
   ]
  },
  {
   "cell_type": "markdown",
   "id": "92b2830f",
   "metadata": {},
   "source": [
    "## Structures utilisées\n",
    "### Class `Plateau`\n",
    "- 1 tableau `self.board` de dimension `self.width`x`self.length` représentant le plateau de jeu\n",
    "- 2 joueurs `self.player1` et `self.player2` \n",
    "- 2 variables enregistrant la dimension du plateau de jeu `self.width` et `self.length`\n",
    "\n",
    "### Class `Player`\n",
    "- 1 étiquette `self.etiquette` représentant la couleur possédée par ce joueur\n",
    "- 1 ensemble de coordonnées `self.coordinate` de chaque tour du joueur\n",
    "\n",
    "## Fonctions de manipulation\n",
    "|Nom de fonction|Utilisation|\n",
    "|---|---|\n",
    "|`show()`|afficher le plateau en cours|\n",
    "|`reset()`|réinitialiser le jeu|\n",
    "|`has_won()`|tester la victoire d'un des deux joueurs|\n",
    "|`play(x,joueur)`|placer un jeton dans la colonne `x` pour le joueur spécifié|\n",
    "|`is_finished()`|tester si c’est la fin du jeu (plateau plein ou victoire d’un joueur)|\n",
    "|`run(joueur1,joueur2)`|jouer une partie entre lejoueur 1 et le joueur 2|"
   ]
  },
  {
   "cell_type": "code",
   "execution_count": 1,
   "id": "83494b16",
   "metadata": {},
   "outputs": [
    {
     "name": "stdout",
     "output_type": "stream",
     "text": [
      "PUISSANCE 4 - DIMENSION 8x8\n",
      "=============================\n",
      "Current state of the game\n",
      "=============================\n",
      "[[ 0.  0.  0.  0.  0.  0.  0.  0.]\n",
      " [ 0.  0.  0.  0.  0.  0.  0.  0.]\n",
      " [ 0.  0.  0.  0.  0.  0.  0.  0.]\n",
      " [ 0. -1.  0.  0.  0.  0.  0.  0.]\n",
      " [ 0. -1.  0.  0.  0.  0.  0.  1.]\n",
      " [ 0.  1.  0.  0.  0.  0.  0.  1.]\n",
      " [ 0. -1.  0. -1.  1. -1.  1. -1.]\n",
      " [ 1.  1.  1.  1. -1. -1. -1.  1.]]\n",
      "\n",
      "\n",
      "PUISSANCE 4 - DIMENSION 7x8\n",
      "=============================\n",
      "Current state of the game\n",
      "=============================\n",
      "[[ 0.  0.  0.  0.  0.  0.  0.  0.]\n",
      " [ 0.  0.  0.  0.  0.  0.  0.  0.]\n",
      " [ 1.  0.  0.  0.  0.  0.  0.  0.]\n",
      " [ 1. -1.  0.  0.  0. -1.  0.  0.]\n",
      " [ 1.  1. -1.  0.  0. -1.  0.  0.]\n",
      " [-1. -1.  1.  0.  0. -1.  1.  0.]\n",
      " [ 1.  1. -1. -1.  1. -1.  1.  0.]]\n",
      "\n",
      "\n",
      "PUISSANCE 4 - DIMENSION 8x9\n",
      "=============================\n",
      "Current state of the game\n",
      "=============================\n",
      "[[ 0.  0.  0.  0.  0.  0.  0.  0.  0.]\n",
      " [ 0.  0.  0.  0. -1.  0.  0.  0.  0.]\n",
      " [ 0.  0.  0.  0. -1.  0.  0.  0.  0.]\n",
      " [ 0.  0.  0.  0.  1.  0.  0.  0.  0.]\n",
      " [ 0.  0.  0.  0. -1.  0.  1.  0.  0.]\n",
      " [ 0.  0.  1.  1.  1.  1.  1.  0.  0.]\n",
      " [ 0.  0.  1.  1.  1. -1. -1.  1. -1.]\n",
      " [ 0. -1. -1.  1. -1. -1.  1. -1. -1.]]\n"
     ]
    }
   ],
   "source": [
    "# Import necessary libraries\n",
    "import random\n",
    "import matplotlib.pyplot as plt\n",
    "import numpy as np\n",
    "import pandas as pd\n",
    "\n",
    "# Import necessary classes\n",
    "from plateau import *\n",
    "from player import *\n",
    "from src import *\n",
    "\n",
    "\n",
    "# Définir les 2 joueurs avec leurs propres étiquettes\n",
    "# Symbole : \n",
    "### 1 pour le premier joueur\n",
    "### -1 pour le deuxième\n",
    "Joueur1 = Player(1)\n",
    "Joueur2 = Player(-1)\n",
    "\n",
    "\n",
    "# DÉMARRAGE DU JEU \n",
    "# Définir le Plateau de Puissance 4 sur laquelle le jeu démarre\n",
    "\n",
    "# Dimension 8x8\n",
    "print(\"PUISSANCE 4 - DIMENSION 8x8\")\n",
    "P = Plateau(8,8,Joueur1,Joueur2)\n",
    "P.run(Joueur1,Joueur2)\n",
    "P.show()\n",
    "print();print()\n",
    "\n",
    "# Dimension 7x8\n",
    "print(\"PUISSANCE 4 - DIMENSION 7x8\")\n",
    "P = Plateau(7,8,Joueur1,Joueur2)\n",
    "P.run(Joueur1,Joueur2)\n",
    "P.show()\n",
    "print();print()\n",
    "\n",
    "# Dimension 8x9\n",
    "print(\"PUISSANCE 4 - DIMENSION 8x9\")\n",
    "P = Plateau(8,9,Joueur1,Joueur2)\n",
    "P.run(Joueur1,Joueur2)\n",
    "P.show()"
   ]
  },
  {
   "cell_type": "markdown",
   "id": "b0f99708",
   "metadata": {},
   "source": [
    "---"
   ]
  },
  {
   "cell_type": "markdown",
   "id": "7f41c7d1",
   "metadata": {},
   "source": [
    "# Étude de la Distribution du nombre de coups avant une victoire"
   ]
  },
  {
   "cell_type": "code",
   "execution_count": 2,
   "id": "49dfe3c9",
   "metadata": {},
   "outputs": [],
   "source": [
    "# Importer la df générée précédemment\n",
    "df = pd.read_csv(\"freq_moves_database.csv\") # Delimiter unnecessary as it's a simple df"
   ]
  },
  {
   "cell_type": "markdown",
   "id": "d921a0f5",
   "metadata": {},
   "source": [
    "![](poisson_dist_nb_coups.jpg)\n",
    "![](poisson_dist_nb_coups_classified.jpg)"
   ]
  },
  {
   "cell_type": "markdown",
   "id": "97b728d0",
   "metadata": {},
   "source": [
    "## Processus\n",
    "Afin d'étudier la distribution du nombre de coups *avant une victoire lorsque les deux joueurs\n",
    "jouent aléatoirement en différenciant selon que ce soit le premier ou le deuxième joueur qui gagne*, nous regénérons 1000 fois le moteur automatique du jeu.\n",
    "\n",
    "Après avoir obtenu les résultats et passé par des traitements afin de raccourcir les opérations et de créer des bases de données nécessaires, nous trouvons que le nombre de coups avant une victoire suit la **loi de Poisson**, *et n'est pas normale*. \n",
    "\n",
    "### [Loi de Poisson](https://fr.wikipedia.org/wiki/Loi_de_Poisson)\n",
    "En théorie des probabilités et en statistiques, la loi de Poisson est une loi de probabilité discrète qui décrit **le comportement du nombre d'événements se produisant dans un intervalle de temps fixé**, si ces événements se produisent avec une fréquence moyenne ou espérance connue, et indépendamment du temps écoulé depuis l'événement précédent.\n",
    "\n",
    "La loi de Poisson est également pertinente pour décrire le nombre d'événements dans d'autres types d'intervalles, spatiaux plutôt que temporels, comme des segments, surfaces ou volumes.\n",
    "\n",
    "<img src=\"poisson_masse.png\" alt=\"Fonction de masse de la loi de Poisson\" width=\"300\"/>\n",
    "\n",
    "### Explication\n"
   ]
  },
  {
   "cell_type": "markdown",
   "id": "460912c1",
   "metadata": {},
   "source": [
    "---"
   ]
  },
  {
   "cell_type": "markdown",
   "id": "96f6e134",
   "metadata": {},
   "source": [
    "---"
   ]
  },
  {
   "cell_type": "markdown",
   "id": "a4b1c05e",
   "metadata": {},
   "source": [
    "[Loi de Poisson](https://fr.wikipedia.org/wiki/Loi_de_Poisson)"
   ]
  }
 ],
 "metadata": {
  "kernelspec": {
   "display_name": "Python 3 (ipykernel)",
   "language": "python",
   "name": "python3"
  },
  "language_info": {
   "codemirror_mode": {
    "name": "ipython",
    "version": 3
   },
   "file_extension": ".py",
   "mimetype": "text/x-python",
   "name": "python",
   "nbconvert_exporter": "python",
   "pygments_lexer": "ipython3",
   "version": "3.9.7"
  }
 },
 "nbformat": 4,
 "nbformat_minor": 5
}
