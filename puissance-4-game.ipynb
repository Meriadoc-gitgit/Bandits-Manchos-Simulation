{
 "cells": [
  {
   "cell_type": "markdown",
   "id": "5c0c4918",
   "metadata": {},
   "source": [
    "# Combinatoire du [Puissance 4](https://fr.wikipedia.org/wiki/Puissance_4)\n",
    ">**Objectif** : Implémentation du jeu + Étude combinatoire du jeu\n",
    "\n",
    "---"
   ]
  },
  {
   "cell_type": "markdown",
   "id": "34a55682",
   "metadata": {},
   "source": [
    "## Membres du binômes\n",
    "### VU Hoang Thuy Duong\n",
    "[LinkedIn](https://www.linkedin.com/in/meriadocdgv/) | [Github](https://github.com/Meriadoc-gitgit)\n",
    "- **Numéro d'étudiante : 21110221**\n",
    "- Groupe : 1 *(Statistique et Informatique - LU3IN005)*\n",
    "- Email : vuhoang.thduong@gmail.com\n",
    "    \n",
    "    \n",
    "### Halimatou DIALLO\n",
    "[LinkedIn](https://www.linkedin.com/in/diallo-halima/) | [Github](https://github.com/limadiallo)\n",
    "- **Numéro d'étudiante : 21114613**\n",
    "- Groupe : 1 *(Statistique et Informatique - LU3IN005)*\n",
    "- Email : \n",
    "    \n",
    "    \n",
    "## Instructeur\n",
    "### M. Maxime BOUTHORS\n",
    "Adresse mail : bouthors@isir.upmc.fr\n",
    "\n",
    "---"
   ]
  },
  {
   "cell_type": "markdown",
   "id": "66341426",
   "metadata": {},
   "source": [
    "# Introduction\n",
    "---"
   ]
  },
  {
   "cell_type": "markdown",
   "id": "b22183ee",
   "metadata": {},
   "source": [
    "# Modèle basique"
   ]
  },
  {
   "cell_type": "markdown",
   "id": "92b2830f",
   "metadata": {},
   "source": [
    "## Structures utilisées\n",
    "### Class `Plateau`\n",
    "- 1 tableau `self.board` de dimension `self.width`x`self.length` représentant le plateau de jeu\n",
    "- 2 joueurs `self.player1` et `self.player2` \n",
    "- 2 variables enregistrant la dimension du plateau de jeu `self.width` et `self.length`\n",
    "\n",
    "### Class `Player`\n",
    "- 1 étiquette `self.etiquette` représentant la couleur possédée par ce joueur\n",
    "- 1 ensemble de coordonnées `self.coordinate` de chaque tour du joueur\n",
    "\n",
    "## Fonctions de manipulation\n",
    "|Nom de fonction|Utilisation|\n",
    "|---|---|\n",
    "|`show()`|afficher le plateau en cours|\n",
    "|`reset()`|réinitialiser le jeu|\n",
    "|`has_won()`|tester la victoire d'un des deux joueurs|\n",
    "|`play(x,joueur)`|placer un jeton dans la colonne `x` pour le joueur spécifié|\n",
    "|`is_finished()`|tester si c’est la fin du jeu (plateau plein ou victoire d’un joueur)|\n",
    "|`run(joueur1,joueur2)`|jouer une partie entre lejoueur 1 et le joueur 2|"
   ]
  },
  {
   "cell_type": "code",
   "execution_count": 1,
   "id": "83494b16",
   "metadata": {},
   "outputs": [
    {
     "name": "stdout",
     "output_type": "stream",
     "text": [
      "PUISSANCE 4 - DIMENSION 8x8\n",
      "=============================\n",
      "Current state of the game\n",
      "=============================\n",
      "[[ 0.  0.  0.  0.  0.  0.  0.  0.]\n",
      " [ 0.  0.  0.  0.  0.  0.  0.  0.]\n",
      " [ 0.  0.  0.  0.  0.  0.  0.  0.]\n",
      " [-1.  0.  0.  0.  0.  0.  0.  0.]\n",
      " [ 1.  0.  0.  0.  0.  0.  1.  0.]\n",
      " [-1.  0.  0.  0.  0.  0.  1.  0.]\n",
      " [-1.  0.  1.  0.  0. -1.  1.  0.]\n",
      " [-1.  1.  1.  0. -1. -1.  1.  0.]]\n",
      "\n",
      "\n",
      "PUISSANCE 4 - DIMENSION 7x8\n",
      "=============================\n",
      "Current state of the game\n",
      "=============================\n",
      "[[ 0.  0.  0.  0.  0.  0.  0.  0.]\n",
      " [ 0.  0.  0.  0.  0.  0.  0.  0.]\n",
      " [ 0.  0.  0.  0.  0.  0.  0.  0.]\n",
      " [ 0.  0.  0. -1.  0.  0.  0.  1.]\n",
      " [ 0.  1. -1. -1.  0.  0.  1. -1.]\n",
      " [ 0.  1.  1. -1.  0.  0. -1.  1.]\n",
      " [-1.  1.  1. -1.  1. -1. -1.  1.]]\n",
      "\n",
      "\n",
      "PUISSANCE 4 - DIMENSION 8x9\n",
      "=============================\n",
      "Current state of the game\n",
      "=============================\n",
      "[[ 0.  0.  0.  0.  0.  0.  0.  0.  0.]\n",
      " [ 0.  0.  0.  0.  0.  0.  0.  0.  0.]\n",
      " [ 0.  0.  0.  0.  0.  0.  0.  0.  0.]\n",
      " [ 0.  0.  0.  1.  0.  0.  0.  0. -1.]\n",
      " [ 0.  0. -1.  1.  0.  0. -1.  0. -1.]\n",
      " [ 0.  0.  1. -1.  0.  1. -1.  0.  1.]\n",
      " [ 1.  1.  1. -1.  0. -1. -1.  1. -1.]\n",
      " [-1.  1.  1.  1. -1.  1. -1.  1. -1.]]\n"
     ]
    }
   ],
   "source": [
    "# Import necessary libraries\n",
    "import random\n",
    "import matplotlib.pyplot as plt\n",
    "import numpy as np\n",
    "import pandas as pd\n",
    "\n",
    "# Import necessary classes\n",
    "from plateau import *\n",
    "from player import *\n",
    "from src import *\n",
    "\n",
    "\n",
    "# Définir les 2 joueurs avec leurs propres étiquettes\n",
    "# Symbole : \n",
    "### 1 pour le premier joueur\n",
    "### -1 pour le deuxième\n",
    "Joueur1 = Player(1)\n",
    "Joueur2 = Player(-1)\n",
    "\n",
    "\n",
    "# DÉMARRAGE DU JEU \n",
    "# Définir le Plateau de Puissance 4 sur laquelle le jeu démarre\n",
    "\n",
    "# Dimension 8x8\n",
    "print(\"PUISSANCE 4 - DIMENSION 8x8\")\n",
    "P = Plateau(8,8,Joueur1,Joueur2)\n",
    "P.run(Joueur1,Joueur2)\n",
    "P.show()\n",
    "print();print()\n",
    "\n",
    "# Dimension 7x8\n",
    "print(\"PUISSANCE 4 - DIMENSION 7x8\")\n",
    "P = Plateau(7,8,Joueur1,Joueur2)\n",
    "P.run(Joueur1,Joueur2)\n",
    "P.show()\n",
    "print();print()\n",
    "\n",
    "# Dimension 8x9\n",
    "print(\"PUISSANCE 4 - DIMENSION 8x9\")\n",
    "P = Plateau(8,9,Joueur1,Joueur2)\n",
    "P.run(Joueur1,Joueur2)\n",
    "P.show()"
   ]
  },
  {
   "cell_type": "markdown",
   "id": "b0f99708",
   "metadata": {},
   "source": [
    "---"
   ]
  },
  {
   "cell_type": "markdown",
   "id": "7f41c7d1",
   "metadata": {},
   "source": [
    "# Étude de la Distribution du nombre de coups avant une victoire"
   ]
  },
  {
   "cell_type": "code",
   "execution_count": 2,
   "id": "7b7a9025",
   "metadata": {},
   "outputs": [],
   "source": [
    "df = pd.read_csv(\"freq_moves_database.csv\")"
   ]
  },
  {
   "cell_type": "markdown",
   "id": "97b728d0",
   "metadata": {},
   "source": [
    "## Processus\n",
    "Afin d'étudier la distribution du nombre de coups *avant une victoire lorsque les deux joueurs jouent aléatoirement en différenciant selon que ce soit le premier ou le deuxième joueur qui gagne*, nous regénérons 1000 fois le moteur automatique du jeu.\n",
    "\n",
    "Après avoir obtenu les résultats et passé par des traitements afin de raccourcir les opérations et de créer des bases de données nécessaires, nous trouvons bien que le nombre de coups avant une victoire suit la **Loi Binomiale**. \n",
    "\n",
    "### [Loi binomiale](https://fr.wikipedia.org/wiki/Loi_binomiale)\n",
    "En théorie des probabilités et en statistique, la loi binomiale modélise **la fréquence du nombre de succès obtenus lors de la répétition de plusieurs expériences aléatoires identiques et indépendantes**.\n",
    "\n",
    "Plus mathématiquement, la loi binomiale est une loi de probabilité discrète décrite par deux paramètres : $n$ le nombre d'expériences réalisées, et $p$ la probabilité de succès. Pour chaque expérience appelée épreuve de Bernoulli, on utilise une variable aléatoire qui prend la valeur $1$ lors d'un succès et la valeur $0$ sinon. La variable aléatoire, somme de toutes ces variables aléatoires, compte le nombre de succès et suit une loi binomiale. Il est alors possible d'obtenir la probabilité de $k$ succès dans une répétition de n expériences :\n",
    "\n",
    "$$\\mathbb{P}(X=k)={n \\choose k} p^k(1-p)^{n-k}$$\n",
    "\n",
    "Cette formule fait intervenir le coefficient binomial ${n \\choose k}$ duquel provient le nom de la loi\n",
    "\n",
    "\n",
    "La loi binomiale est utilisée dans divers domaines d'étude, notamment à travers des tests statistiques qui permettent d'interpréter des données et de prendre des décisions dans des situations dépendant de l'aléa. De par la simplicité de sa définition, c'est l'une des lois de probabilité étudiées dans les cours d'introduction à la théorie des probabilités.\n",
    "\n",
    "<img src=\"binomial_mass.png\" alt=\"Fonction de masse de la Loi Binomiale\" width=\"300\"/>\n",
    "\n",
    "### Explication\n",
    "On cherche maintenant à modélise la fréquence du nombre de coups avant une victoire lors de la répétition de 1000 expériences aléatoires identiques et indépendantes sur un plateau de jeu. Dans le cadre du jeu, cette fréquence suit donc une distribution binomiale avec $n=15\\times15$ et $k=4$. \n",
    "\n",
    "L'étude de la distribution du nombre de coups avant une victoire renvoie une graphe prenant la forme ci-dessous : \n",
    "\n",
    "![](binomial_dist_nb_coups.jpg)\n",
    "\n",
    "Dans ce cas-là, le nombre de coups qui possède la fréquence d'apparition la plus grande est 13.\n",
    "\n",
    "En classifiant les fréquences selon la victoire de chaque joueur, on obtient le graphe ci-dessous, dont :\n",
    "- la ligne bleue représente la fréquence des nombres de coups en général\n",
    "- celle en rouge pour la fréquence des nombres de coups par le premier joueur\n",
    "- et celle en verte pour l'autre\n",
    "\n",
    "![](binomial_dist_nb_coups_classified.jpg)\n",
    "\n",
    "En observant le graphe, on trouve que le nombre de coups qui possède la fréquence d'apparition la plus grande est 16 pour le premier joueur, et 13 pour l'autre. \n",
    "\n",
    "#### Note\n",
    "Pour accéder au code plus concrète, les fichiers sources peuvent être retrouvés dans le répertoire `side_code`."
   ]
  },
  {
   "cell_type": "code",
   "execution_count": 3,
   "id": "44a19898",
   "metadata": {},
   "outputs": [
    {
     "data": {
      "text/plain": [
       "(0, -1)"
      ]
     },
     "execution_count": 3,
     "metadata": {},
     "output_type": "execute_result"
    }
   ],
   "source": [
    "P.mc_strategy(1,Joueur1)"
   ]
  },
  {
   "cell_type": "code",
   "execution_count": 4,
   "id": "8e4fe8fb",
   "metadata": {},
   "outputs": [
    {
     "data": {
      "text/plain": [
       "(6, 1)"
      ]
     },
     "execution_count": 4,
     "metadata": {},
     "output_type": "execute_result"
    }
   ],
   "source": [
    "P.mc_strategy(-1,Joueur2)"
   ]
  },
  {
   "cell_type": "code",
   "execution_count": 6,
   "id": "d5cfdba1",
   "metadata": {},
   "outputs": [
    {
     "name": "stdout",
     "output_type": "stream",
     "text": [
      "winner:  -1\n",
      "Number of turns:  25\n",
      "=============================\n",
      "Current state of the game\n",
      "=============================\n",
      "[[ 0.  0.  0.  0.  0.  0.  0.  0.  0.]\n",
      " [ 0.  0.  0.  0.  0.  0.  0.  0.  0.]\n",
      " [ 0.  0.  0.  0.  0.  0.  0.  0.  0.]\n",
      " [ 0.  0.  0.  0.  0. -1.  1. -1.  0.]\n",
      " [ 0.  0.  0.  0.  0. -1.  1.  1.  1.]\n",
      " [ 0.  0.  0.  0.  0. -1. -1. -1.  1.]\n",
      " [ 0.  0. -1.  1.  1. -1.  1. -1. -1.]\n",
      " [ 0. -1.  1. -1.  1.  1.  1. -1.  1.]]\n"
     ]
    }
   ],
   "source": [
    "Plateau.mc_play(P,Joueur1, Joueur2)"
   ]
  },
  {
   "cell_type": "markdown",
   "id": "460912c1",
   "metadata": {},
   "source": [
    "---"
   ]
  }
 ],
 "metadata": {
  "kernelspec": {
   "display_name": "Python 3 (ipykernel)",
   "language": "python",
   "name": "python3"
  },
  "language_info": {
   "codemirror_mode": {
    "name": "ipython",
    "version": 3
   },
   "file_extension": ".py",
   "mimetype": "text/x-python",
   "name": "python",
   "nbconvert_exporter": "python",
   "pygments_lexer": "ipython3",
   "version": "3.9.7"
  }
 },
 "nbformat": 4,
 "nbformat_minor": 5
}
