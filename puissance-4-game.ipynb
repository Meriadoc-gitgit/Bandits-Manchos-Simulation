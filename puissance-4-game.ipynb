{
 "cells": [
  {
   "cell_type": "markdown",
   "id": "5c0c4918",
   "metadata": {},
   "source": [
    "# Combinatoire du [Puissance 4](https://fr.wikipedia.org/wiki/Puissance_4)\n",
    ">**Objectif** : Implémentation du jeu + Étude combinatoire du jeu\n",
    "\n",
    "---"
   ]
  },
  {
   "cell_type": "markdown",
   "id": "34a55682",
   "metadata": {},
   "source": [
    "## Membres du binômes\n",
    "### VU Hoang Thuy Duong\n",
    "- **Numéro d'étudiante : 21110221**\n",
    "- Groupe : 1 *(Statistique et Informatique - LU3IN005)*\n",
    "- Email : vuhoang.thduong@gmail.com\n",
    "- Autres liens : \n",
    "    - [LinkedIn](https://www.linkedin.com/in/meriadocdgv/)\n",
    "    - [Github](https://github.com/Meriadoc-gitgit)\n",
    "    \n",
    "    \n",
    "### Halimatou DIALLO\n",
    "- **Numéro d'étudiante : 21114613**\n",
    "- Groupe : 1 *(Statistique et Informatique - LU3IN005)*\n",
    "- Email : \n",
    "- Autres liens : \n",
    "    - [LinkedIn](https://www.linkedin.com/in/diallo-halima/)\n",
    "    - [Github](https://github.com/limadiallo)\n",
    "    \n",
    "    \n",
    "## Instructeur\n",
    "### M. Maxime Bouthors\n",
    "- Adresse mail : bouthors@isir.upmc.fr\n",
    "---"
   ]
  },
  {
   "cell_type": "markdown",
   "id": "66341426",
   "metadata": {},
   "source": [
    "# Introduction\n",
    "---"
   ]
  },
  {
   "cell_type": "markdown",
   "id": "b22183ee",
   "metadata": {},
   "source": [
    "# Modèle basique"
   ]
  },
  {
   "cell_type": "markdown",
   "id": "333b9a78",
   "metadata": {},
   "source": [
    "## Structures utilisées\n",
    "### Class `Plateau`\n",
    "- 1 tableau `self.board` de dimension `self.width`x`self.length` représentant le plateau de jeu\n",
    "- 2 joueurs `self.player1` et `self.player2` \n",
    "- 2 variables enregistrant la dimension du plateau de jeu `self.width` et `self.length`\n",
    "\n",
    "### Class `Player`\n",
    "- 1 étiquette `self.etiquette` représentant la couleur possédée par ce joueur\n",
    "- 1 ensemble de coordonnées `self.coordinate` de chaque tour du joueur\n",
    "\n",
    "## Fonctions de manipulation\n",
    "- `show()` : afficher le plateau en cours\n",
    "- `reset()` : réinitialiser le jeu\n",
    "- `has_won()` : tester la victoire d'un des deux joueurs \n",
    "- `play(x,joueur) : "
   ]
  },
  {
   "cell_type": "code",
   "execution_count": 1,
   "id": "83494b16",
   "metadata": {},
   "outputs": [
    {
     "name": "stdout",
     "output_type": "stream",
     "text": [
      "PUISSANCE 4 - DIMENSION 8x8\n",
      "=============================\n",
      "Current state of the game\n",
      "=============================\n",
      "[[ 0.  0.  0.  0.  0.  0.  0.  0.]\n",
      " [ 0.  0.  0.  0.  0.  0.  0.  0.]\n",
      " [ 0.  0.  0.  0.  0.  0.  0.  0.]\n",
      " [ 0.  0.  0.  0.  0.  0.  0.  0.]\n",
      " [ 0.  0.  0.  0.  0.  0.  0.  0.]\n",
      " [ 0.  0.  0.  0. -1.  0.  0.  0.]\n",
      " [-1.  0.  0.  0.  1.  0.  1.  0.]\n",
      " [-1. -1.  1.  1.  1.  1. -1.  0.]]\n",
      "\n",
      "\n",
      "PUISSANCE 4 - DIMENSION 7x8\n",
      "=============================\n",
      "Current state of the game\n",
      "=============================\n",
      "[[-1.  0.  0.  0.  0.  0.  0.  0.]\n",
      " [ 1.  0.  0.  0.  0.  0.  0.  0.]\n",
      " [-1.  0.  0.  0.  0.  0.  0.  0.]\n",
      " [-1.  0.  0.  0.  1. -1.  1.  0.]\n",
      " [ 1.  0.  0.  0. -1. -1. -1.  0.]\n",
      " [-1.  1.  1. -1.  1. -1.  1.  1.]\n",
      " [ 1. -1.  1.  1. -1. -1.  1. -1.]]\n",
      "\n",
      "\n",
      "PUISSANCE 4 - DIMENSION 8x9\n",
      "=============================\n",
      "Current state of the game\n",
      "=============================\n",
      "[[ 0.  0.  0.  0.  0.  0. -1.  0.  0.]\n",
      " [ 0.  0.  0.  0.  0.  0. -1.  0.  0.]\n",
      " [ 0.  0.  0.  0.  0.  0. -1.  0.  0.]\n",
      " [ 1.  1.  0.  0.  1.  0. -1.  0.  1.]\n",
      " [-1.  1.  0.  1. -1.  0.  1.  0. -1.]\n",
      " [ 1.  1.  0. -1. -1.  0. -1.  0.  1.]\n",
      " [-1. -1.  1. -1. -1.  1.  1. -1.  1.]\n",
      " [ 1.  1.  1. -1.  1.  1. -1. -1. -1.]]\n"
     ]
    }
   ],
   "source": [
    "# Import necessary libraries\n",
    "import random\n",
    "import matplotlib.pyplot as plt\n",
    "import numpy as np\n",
    "import pandas as pd\n",
    "\n",
    "# Import necessary classes\n",
    "from plateau import *\n",
    "from player import *\n",
    "from src import *\n",
    "\n",
    "\n",
    "# Définir les 2 joueurs avec leurs propres étiquettes\n",
    "# Symbole : \n",
    "### 1 pour le premier joueur\n",
    "### -1 pour le deuxième\n",
    "Joueur1 = Player(1)\n",
    "Joueur2 = Player(-1)\n",
    "\n",
    "\n",
    "# DÉMARRAGE DU JEU \n",
    "# Définir le Plateau de Puissance 4 sur laquelle le jeu démarre\n",
    "\n",
    "# Dimension 8x8\n",
    "print(\"PUISSANCE 4 - DIMENSION 8x8\")\n",
    "P = Plateau(8,8,Joueur1,Joueur2)\n",
    "P.run(Joueur1,Joueur2)\n",
    "P.show()\n",
    "print();print()\n",
    "\n",
    "# Dimension 7x8\n",
    "print(\"PUISSANCE 4 - DIMENSION 7x8\")\n",
    "P = Plateau(7,8,Joueur1,Joueur2)\n",
    "P.run(Joueur1,Joueur2)\n",
    "P.show()\n",
    "print();print()\n",
    "\n",
    "# Dimension 8x9\n",
    "print(\"PUISSANCE 4 - DIMENSION 8x9\")\n",
    "P = Plateau(8,9,Joueur1,Joueur2)\n",
    "P.run(Joueur1,Joueur2)\n",
    "P.show()"
   ]
  },
  {
   "cell_type": "code",
   "execution_count": null,
   "id": "dae63aaf",
   "metadata": {},
   "outputs": [],
   "source": [
    "# Distribution du nombre de coups avant une victoire lorsque les deux joueurs jouent aléatoirement \n",
    "# en différenciant selon que ce soit le premier ou le deuxième joueur qui gagne\n",
    "P = Plateau(15,15,Joueur1, Joueur2)\n",
    "list_move = []\n",
    "\n",
    "for i in range(1000) : \n",
    "    total_move = 0\n",
    "    P.run(Joueur1, Joueur2)\n",
    "    for j in range(P.length) :\n",
    "        for k in range(P.width) : \n",
    "            if P.board[j][k]==P.has_won() : \n",
    "                total_move+=1\n",
    "    list_move.append(total_move)\n",
    "    P.reset()"
   ]
  },
  {
   "cell_type": "markdown",
   "id": "2555f7bd",
   "metadata": {},
   "source": [
    "---"
   ]
  },
  {
   "cell_type": "code",
   "execution_count": null,
   "id": "83503d2c",
   "metadata": {},
   "outputs": [],
   "source": [
    "list_move_unique = np.unique(list_move)\n",
    "list_move_unique.sort()\n",
    "freq_move = dict()\n",
    "\n",
    "# Construire le dictionnaire de base\n",
    "for i in range(np.max(list_move_unique)) : \n",
    "    if i not freq_move : \n",
    "        freq_movep[i] = 0\n",
    "\n",
    "for i in list_move : \n",
    "    freq_move[i] +=1\n",
    "\n",
    "value = [i for (_,i) in freq_move.items()]\n",
    "freq = [i for (i,_) in freq_move.items()]\n",
    "\n",
    "df = {\"freq_move\" : freq, \"value\" : value}\n",
    "pd.DataFrame.from_dict(df)"
   ]
  },
  {
   "cell_type": "code",
   "execution_count": null,
   "id": "47a46d31",
   "metadata": {},
   "outputs": [],
   "source": [
    "df = {'3':0,\"2\":1}\n",
    "pd.DataFrame.from_dict(df)"
   ]
  },
  {
   "cell_type": "code",
   "execution_count": 64,
   "id": "0aae6661",
   "metadata": {},
   "outputs": [
    {
     "data": {
      "text/plain": [
       "Text(0.5, 1.0, 'Distribution du nombre de coups avant une victoire')"
      ]
     },
     "execution_count": 64,
     "metadata": {},
     "output_type": "execute_result"
    },
    {
     "data": {
      "image/png": "[encoded data removed]",
      "text/plain": [
       "<Figure size 432x216 with 1 Axes>"
      ]
     },
     "metadata": {
      "needs_background": "light"
     },
     "output_type": "display_data"
    }
   ],
   "source": [
    "# Graphe de distribution des nombres de déplacements\n",
    "plt_1 = plt.figure(figsize=(6, 3))\n",
    "plt.bar(range(1000),list_move,color=\"blue\")\n",
    "plt.grid()\n",
    "#plt.scatter(range(150),list_move,s=.5,c=\"red\")\n",
    "plt.xlabel('x')\n",
    "plt.ylabel(\"Nombre de coups\")\n",
    "\n",
    "plt.title(\"Distribution du nombre de coups avant une victoire\")"
   ]
  },
  {
   "cell_type": "markdown",
   "id": "96f6e134",
   "metadata": {},
   "source": [
    "---"
   ]
  },
  {
   "cell_type": "markdown",
   "id": "a4b1c05e",
   "metadata": {},
   "source": [
    "[Loi de Poisson](https://fr.wikipedia.org/wiki/Loi_de_Poisson)"
   ]
  },
  {
   "cell_type": "code",
   "execution_count": null,
   "id": "b2490508",
   "metadata": {},
   "outputs": [],
   "source": []
  },
  {
   "cell_type": "code",
   "execution_count": null,
   "id": "df83a3c3",
   "metadata": {},
   "outputs": [],
   "source": []
  },
  {
   "cell_type": "code",
   "execution_count": null,
   "id": "02dd816e",
   "metadata": {},
   "outputs": [],
   "source": []
  }
 ],
 "metadata": {
  "kernelspec": {
   "display_name": "Python 3 (ipykernel)",
   "language": "python",
   "name": "python3"
  },
  "language_info": {
   "codemirror_mode": {
    "name": "ipython",
    "version": 3
   },
   "file_extension": ".py",
   "mimetype": "text/x-python",
   "name": "python",
   "nbconvert_exporter": "python",
   "pygments_lexer": "ipython3",
   "version": "3.9.7"
  }
 },
 "nbformat": 4,
 "nbformat_minor": 5
}
