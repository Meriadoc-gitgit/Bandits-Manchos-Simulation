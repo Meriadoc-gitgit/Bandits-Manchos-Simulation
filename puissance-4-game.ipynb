{
 "cells": [
  {
   "cell_type": "markdown",
   "id": "5c0c4918",
   "metadata": {},
   "source": [
    "# Combinatoire du [Puissance 4](https://fr.wikipedia.org/wiki/Puissance_4)\n",
    ">**Objectif** : Implémentation du jeu + Étude combinatoire du jeu\n",
    "\n",
    "---"
   ]
  },
  {
   "cell_type": "markdown",
   "id": "34a55682",
   "metadata": {},
   "source": [
    "## Membres du binômes\n",
    "### VU Hoang Thuy Duong\n",
    "- **Numéro d'étudiante : 21110221**\n",
    "- Groupe : 1 *(Statistique et Informatique - LU3IN005)*\n",
    "- Email : vuhoang.thduong@gmail.com\n",
    "- Autres liens : \n",
    "    - [LinkedIn](https://www.linkedin.com/in/meriadocdgv/)\n",
    "    - [Github](https://github.com/Meriadoc-gitgit)\n",
    "    \n",
    "    \n",
    "### Halimatou DIALLO\n",
    "- **Numéro d'étudiante : 21114613**\n",
    "- Groupe : 1 *(Statistique et Informatique - LU3IN005)*\n",
    "- Email : \n",
    "- Autres liens : \n",
    "    - [LinkedIn](https://www.linkedin.com/in/diallo-halima/)\n",
    "    - [Github](https://github.com/limadiallo)\n",
    "    \n",
    "    \n",
    "## Instructeur\n",
    "### M. Maxime Bouthors\n",
    "- Adresse mail : bouthors@isir.upmc.fr\n",
    "---"
   ]
  },
  {
   "cell_type": "markdown",
   "id": "66341426",
   "metadata": {},
   "source": [
    "# Introduction\n",
    "---"
   ]
  },
  {
   "cell_type": "markdown",
   "id": "b22183ee",
   "metadata": {},
   "source": [
    "# Modèle basique"
   ]
  },
  {
   "cell_type": "markdown",
   "id": "333b9a78",
   "metadata": {},
   "source": [
    "## Structures utilisées\n",
    "### Class `Plateau`\n",
    "- 1 tableau `self.board` de dimension `self.width`x`self.length` représentant le plateau de jeu\n",
    "- 2 joueurs `self.player1` et `self.player2` \n",
    "- 2 variables enregistrant la dimension du plateau de jeu `self.width` et `self.length`\n",
    "\n",
    "### Class `Player`\n",
    "- 1 étiquette `self.etiquette` représentant la couleur possédée par ce joueur\n",
    "- 1 ensemble de coordonnées `self.coordinate` de chaque tour du joueur\n",
    "\n",
    "## Fonctions de manipulation\n",
    "- `show()` : afficher le plateau en cours\n",
    "- `reset()` : réinitialiser le jeu\n",
    "- `has_won()` : tester la victoire d'un des deux joueurs \n",
    "- `play(x,joueur) : "
   ]
  },
  {
   "cell_type": "code",
   "execution_count": 1,
   "id": "83494b16",
   "metadata": {},
   "outputs": [
    {
     "name": "stdout",
     "output_type": "stream",
     "text": [
      "PUISSANCE 4 - DIMENSION 8x8\n",
      "=============================\n",
      "Current state of the game\n",
      "=============================\n",
      "[[ 0.  0.  0.  0.  0.  0.  0.  0.]\n",
      " [ 0.  0.  0.  0.  0.  0.  0.  0.]\n",
      " [ 0.  0.  0.  0.  0.  0.  0.  0.]\n",
      " [-1.  0.  0.  0.  0.  0.  0.  0.]\n",
      " [-1.  0.  0.  0.  0.  0.  0.  0.]\n",
      " [-1. -1.  0.  0.  1.  0. -1.  0.]\n",
      " [ 1.  1.  1.  1.  1.  0. -1.  0.]\n",
      " [ 1. -1.  1.  1. -1.  0. -1.  1.]]\n",
      "Puissance 4 winner is :  1\n",
      "\n",
      "\n",
      "PUISSANCE 4 - DIMENSION 7x8\n",
      "=============================\n",
      "Current state of the game\n",
      "=============================\n",
      "[[ 0.  0.  0.  0.  0.  0.  0.  0.]\n",
      " [ 0.  0.  0.  0.  0.  0.  0.  0.]\n",
      " [ 0.  0.  0.  0.  0.  0.  0.  0.]\n",
      " [ 0.  0.  0.  0.  0.  0. -1.  0.]\n",
      " [ 0.  0.  0.  1.  0.  0. -1.  0.]\n",
      " [ 0.  1.  0.  1. -1.  0. -1.  1.]\n",
      " [ 1.  1.  0. -1.  1.  0. -1. -1.]]\n",
      "Puissance 4 winner is :  -1\n",
      "\n",
      "\n",
      "PUISSANCE 4 - DIMENSION 8x9\n",
      "=============================\n",
      "Current state of the game\n",
      "=============================\n",
      "[[ 0.  0.  0.  0.  0.  0.  0.  0.  0.]\n",
      " [ 0.  0.  0.  0.  0.  0.  0.  0.  0.]\n",
      " [ 0.  0.  0. -1.  0.  0.  0.  0.  0.]\n",
      " [ 0.  0.  0. -1.  0.  0.  0.  0.  0.]\n",
      " [ 0.  0.  0. -1.  0.  0.  0.  0.  0.]\n",
      " [ 0.  0.  0. -1.  0.  0.  0.  0.  0.]\n",
      " [ 0.  0.  0.  1.  1.  0.  0.  1.  0.]\n",
      " [ 1.  0. -1. -1.  1.  1.  1. -1.  0.]]\n",
      "Puissance 4 winner is :  -1\n"
     ]
    }
   ],
   "source": [
    "# Import necessary libraries\n",
    "from plateau import *\n",
    "from player import *\n",
    "from src import *\n",
    "\n",
    "\n",
    "# Définir les 2 joueurs avec leurs propres étiquettes\n",
    "# Symbole : \n",
    "### 1 pour le premier joueur\n",
    "### -1 pour le deuxième\n",
    "Joueur1 = Player(1)\n",
    "Joueur2 = Player(-1)\n",
    "\n",
    "\n",
    "# DÉMARRAGE DU JEU \n",
    "# Définir le Plateau de Puissance 4 sur laquelle le jeu démarre\n",
    "\n",
    "# Dimension 8x8\n",
    "print(\"PUISSANCE 4 - DIMENSION 8x8\")\n",
    "P = Plateau(8,8,Joueur1,Joueur2)\n",
    "P.run(Joueur1,Joueur2)\n",
    "print();print()\n",
    "\n",
    "# Dimension 7x8\n",
    "print(\"PUISSANCE 4 - DIMENSION 7x8\")\n",
    "P = Plateau(7,8,Joueur1,Joueur2)\n",
    "P.run(Joueur1,Joueur2)\n",
    "print();print()\n",
    "\n",
    "# Dimension 8x9\n",
    "print(\"PUISSANCE 4 - DIMENSION 8x9\")\n",
    "P = Plateau(8,9,Joueur1,Joueur2)\n",
    "P.run(Joueur1,Joueur2)"
   ]
  },
  {
   "cell_type": "code",
   "execution_count": null,
   "id": "cefe93e7",
   "metadata": {},
   "outputs": [],
   "source": []
  },
  {
   "cell_type": "code",
   "execution_count": null,
   "id": "50bf9ca0",
   "metadata": {},
   "outputs": [],
   "source": []
  },
  {
   "cell_type": "code",
   "execution_count": null,
   "id": "dae63aaf",
   "metadata": {},
   "outputs": [],
   "source": []
  }
 ],
 "metadata": {
  "kernelspec": {
   "display_name": "Python 3 (ipykernel)",
   "language": "python",
   "name": "python3"
  },
  "language_info": {
   "codemirror_mode": {
    "name": "ipython",
    "version": 3
   },
   "file_extension": ".py",
   "mimetype": "text/x-python",
   "name": "python",
   "nbconvert_exporter": "python",
   "pygments_lexer": "ipython3",
   "version": "3.9.7"
  }
 },
 "nbformat": 4,
 "nbformat_minor": 5
}
