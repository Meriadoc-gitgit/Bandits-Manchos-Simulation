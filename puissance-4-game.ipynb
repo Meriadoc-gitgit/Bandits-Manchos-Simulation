{
 "cells": [
  {
   "cell_type": "markdown",
   "id": "5c0c4918",
   "metadata": {},
   "source": [
    "# Combinatoire du [Puissance 4](https://fr.wikipedia.org/wiki/Puissance_4)\n",
    ">**Objectif** : Implémentation du jeu + Étude combinatoire du jeu\n",
    "# Description\n",
    "- C'est un jeu à 2 joueurs qui se joue sur un plateau de $7\\times6$\n",
    "- Chaque joueur dispose de 21 jetons d'une couleur donnée *(généralement rouge pour l'un, bleu pour l'autre)*\n",
    "- **Objectif** : Aligner 4 jetons de sa couleur sur le plateau *(verticalement, horizontalement, diagonal)*\n",
    "- Tour à tour, chaque joueur place un pion sur une des $7$ colonnes et le pion tombe jusqu'à la première position non occupée de la colonne\n",
    "- Le jeu s'**arrête** :\n",
    "\t- dès que 4 jetons de la même couleur sont alignées \n",
    "\t- ou si toutes les cases sont occupées\n",
    "\n",
    "\n",
    "# Conseils pour l'implémentation \n",
    "- codez les fonctions de manière générique de manière à ce qu'elles puissent traiter n'importe quelle taille de plateau\n",
    "\t- possible de définir des variables globales au début de votre code pour spécifier la taille de plateau étudié\n",
    "- utilisez `numpy` pour coder des tableaux et les opérations mathématiques\n",
    "- utilisez `matplotlib.pyplot` pour des affichages graphiques\n",
    "- codez des classes : \n",
    "\t- pour le Plateau\n",
    "\t- pour les Joueurs\n",
    "- utilisez un tableau pour représenter le tableau, possible de coder\n",
    "\t- $0$ une case vide\n",
    "\t- $1$ le premier joueur\n",
    "\t- $-1$ le deuxième\n",
    "---"
   ]
  },
  {
   "cell_type": "code",
   "execution_count": 1,
   "id": "83494b16",
   "metadata": {},
   "outputs": [],
   "source": [
    "# Import necessary libraries\n",
    "from plateau import *\n",
    "from player import *\n",
    "from src import *"
   ]
  },
  {
   "cell_type": "code",
   "execution_count": 2,
   "id": "01677d86",
   "metadata": {},
   "outputs": [
    {
     "data": {
      "text/plain": [
       "[[(0, 0), (0, 1), (0, 2), (0, 3)]]"
      ]
     },
     "execution_count": 2,
     "metadata": {},
     "output_type": "execute_result"
    }
   ],
   "source": [
    "predict_possible_move(3,4,0,0)"
   ]
  },
  {
   "cell_type": "code",
   "execution_count": 8,
   "id": "4226226d",
   "metadata": {},
   "outputs": [
    {
     "name": "stdout",
     "output_type": "stream",
     "text": [
      "1\n",
      "-1\n",
      "0\n",
      "0\n",
      "0\n",
      "0\n",
      "0\n",
      "0\n",
      "0\n",
      "0\n",
      "0\n",
      "0\n",
      "1\n",
      "0\n",
      "1\n",
      "0\n",
      "Winner :  1\n",
      "[[ 0.  0.  0.  0.  0.  0.  0.  0.  0.  0.]\n",
      " [ 0.  0.  0.  0.  0.  0.  0.  0.  0.  0.]\n",
      " [ 0.  0.  0.  0.  0.  0.  0.  0.  0.  0.]\n",
      " [ 0.  0.  1.  0.  0.  0.  0.  0.  0.  0.]\n",
      " [-1.  1.  1. -1.  0. -1.  0.  0.  0.  0.]]\n"
     ]
    }
   ],
   "source": [
    "joueur1 = Player(1)\n",
    "joueur2 = Player(-1)\n",
    "\n",
    "p = Plateau(5,10,joueur1,joueur2)\n",
    "\n",
    "p.run(joueur1,joueur2)\n",
    "p.show()"
   ]
  },
  {
   "cell_type": "code",
   "execution_count": null,
   "id": "301d04e3",
   "metadata": {},
   "outputs": [],
   "source": []
  },
  {
   "cell_type": "code",
   "execution_count": null,
   "id": "41dbbdde",
   "metadata": {},
   "outputs": [],
   "source": []
  }
 ],
 "metadata": {
  "kernelspec": {
   "display_name": "Python 3 (ipykernel)",
   "language": "python",
   "name": "python3"
  },
  "language_info": {
   "codemirror_mode": {
    "name": "ipython",
    "version": 3
   },
   "file_extension": ".py",
   "mimetype": "text/x-python",
   "name": "python",
   "nbconvert_exporter": "python",
   "pygments_lexer": "ipython3",
   "version": "3.9.7"
  }
 },
 "nbformat": 4,
 "nbformat_minor": 5
}
