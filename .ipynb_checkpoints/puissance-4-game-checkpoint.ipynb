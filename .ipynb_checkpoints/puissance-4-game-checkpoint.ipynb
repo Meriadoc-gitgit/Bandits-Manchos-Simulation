{
 "cells": [
  {
   "cell_type": "markdown",
   "id": "5c0c4918",
   "metadata": {},
   "source": [
    "# Combinatoire du [Puissance 4](https://fr.wikipedia.org/wiki/Puissance_4)\n",
    ">**Objectif** : Implémentation du jeu + Étude combinatoire du jeu\n",
    "# Description\n",
    "- C'est un jeu à 2 joueurs qui se joue sur un plateau de $7\\times6$\n",
    "- Chaque joueur dispose de 21 jetons d'une couleur donnée *(généralement rouge pour l'un, bleu pour l'autre)*\n",
    "- **Objectif** : Aligner 4 jetons de sa couleur sur le plateau *(verticalement, horizontalement, diagonal)*\n",
    "- Tour à tour, chaque joueur place un pion sur une des $7$ colonnes et le pion tombe jusqu'à la première position non occupée de la colonne\n",
    "- Le jeu s'**arrête** :\n",
    "\t- dès que 4 jetons de la même couleur sont alignées \n",
    "\t- ou si toutes les cases sont occupées\n",
    "\n",
    "\n",
    "# Conseils pour l'implémentation \n",
    "- codez les fonctions de manière générique de manière à ce qu'elles puissent traiter n'importe quelle taille de plateau\n",
    "\t- possible de définir des variables globales au début de votre code pour spécifier la taille de plateau étudié\n",
    "- utilisez `numpy` pour coder des tableaux et les opérations mathématiques\n",
    "- utilisez `matplotlib.pyplot` pour des affichages graphiques\n",
    "- codez des classes : \n",
    "\t- pour le Plateau\n",
    "\t- pour les Joueurs\n",
    "- utilisez un tableau pour représenter le tableau, possible de coder\n",
    "\t- $0$ une case vide\n",
    "\t- $1$ le premier joueur\n",
    "\t- $-1$ le deuxième\n",
    "---"
   ]
  },
  {
   "cell_type": "code",
   "execution_count": 2,
   "id": "c5f888ee",
   "metadata": {},
   "outputs": [],
   "source": [
    "# Import necessary libraries\n",
    "import numpy as np"
   ]
  },
  {
   "cell_type": "markdown",
   "id": "933028f5",
   "metadata": {},
   "source": [
    "1. `predict_possible_move(width, length, coord1, coord2)` calcule la liste de toutes les quadruplets de cases qui doivent être de la même couleur pour gagner : $\\{((0,0),(0,1),(0,2),(0,3)),((0,1),(0,2),(0.3),(0.4))...\\}$"
   ]
  },
  {
   "cell_type": "code",
   "execution_count": 12,
   "id": "1f806fb9",
   "metadata": {},
   "outputs": [],
   "source": [
    "def predict_possible_move(width, length, coord1, coord2) : \n",
    "    \n",
    "    # Input error problem\n",
    "    if coord1 > width : \n",
    "        print(\"Warning : Plateau width exceeded, value in range of [0, \",width,\"] required\")\n",
    "    elif coord2 > length : \n",
    "        print(\"Warning : Plateau length exceeded, value in range of [0, \",length,\"] required\")\n",
    "        \n",
    "    L = []\n",
    "    sub_L = []\n",
    "\n",
    "    # Start\n",
    "    if coord1>=3 : \n",
    "        for j in range(4) : \n",
    "            sub_L.append((coord1-j,coord2))\n",
    "        L.append(sub_L)\n",
    "        sub_L=[]\n",
    "    if width-coord1>=4 : \n",
    "        for j in range(4) : \n",
    "            sub_L.append((coord1+j,coord2))\n",
    "        L.append(sub_L)\n",
    "        sub_L=[]\n",
    "    if coord2>=3 : \n",
    "        for j in range(4) : \n",
    "            sub_L.append((coord1,coord2-j))\n",
    "        L.append(sub_L)\n",
    "        sub_L=[]\n",
    "    if length-coord2>=4 : \n",
    "        for j in range(4) : \n",
    "            sub_L.append((coord1,coord2+j))\n",
    "        L.append(sub_L)\n",
    "        sub_L=[]\n",
    "    if coord1>=3 and coord2>=3 : \n",
    "        for j in range(4) : \n",
    "            sub_L.append((coord1-j,coord2-j))\n",
    "        L.append(sub_L)\n",
    "        sub_L=[]\n",
    "    if width-coord1>=4 and coord2>=3 : \n",
    "        for j in range(4) : \n",
    "            sub_L.append((coord1+j,coord2-j))\n",
    "        L.append(sub_L)\n",
    "        sub_L=[]\n",
    "    if coord1>=3 and length-coord2>=4 : \n",
    "        for j in range(4) : \n",
    "            sub_L.append((coord1-j,coord2+j))\n",
    "        L.append(sub_L)\n",
    "        sub_L=[]\n",
    "    if width-coord1>=4 and length-coord2>=4 : \n",
    "        for j in range(4) : \n",
    "            sub_L.append((coord1+j,coord2+j))\n",
    "        L.append(sub_L)\n",
    "        sub_L=[]\n",
    "    return L\n",
    "\n",
    "\n",
    "# Test\n",
    "#print(\"width : 8   length : 9   (x,y) = (3,2)\")\n",
    "#print(predict_possible_move(8,9,3,2))\n",
    "#print()\n",
    "#print(\"width : 8   length : 9   (x,y) = (4,5)\")\n",
    "#print(predict_possible_move(8,9,4,5))\n",
    "#print()\n",
    "#print(\"width : 8   length : 9   (x,y) = (5,5)\")\n",
    "#print(predict_possible_move(8,9,5,5))"
   ]
  },
  {
   "cell_type": "code",
   "execution_count": 9,
   "id": "827d5f92",
   "metadata": {},
   "outputs": [
    {
     "data": {
      "text/plain": [
       "array([[0., 0., 0., 0., 0., 0., 0., 0.],\n",
       "       [0., 0., 0., 1., 0., 0., 0., 0.],\n",
       "       [0., 0., 0., 0., 0., 0., 0., 0.],\n",
       "       [0., 0., 0., 0., 0., 0., 0., 0.],\n",
       "       [0., 0., 0., 0., 0., 0., 0., 0.],\n",
       "       [0., 0., 0., 0., 0., 0., 0., 0.],\n",
       "       [0., 0., 0., 0., 0., 0., 0., 0.],\n",
       "       [0., 0., 0., 0., 0., 0., 0., 0.],\n",
       "       [0., 0., 0., 0., 0., 0., 0., 0.]])"
      ]
     },
     "execution_count": 9,
     "metadata": {},
     "output_type": "execute_result"
    }
   ],
   "source": [
    "Plateau = np.zeros((9,8))\n",
    "Plateau[1][3] = 1\n",
    "Plateau"
   ]
  },
  {
   "cell_type": "code",
   "execution_count": null,
   "id": "7d78c95f",
   "metadata": {},
   "outputs": [],
   "source": []
  }
 ],
 "metadata": {
  "kernelspec": {
   "display_name": "Python 3 (ipykernel)",
   "language": "python",
   "name": "python3"
  },
  "language_info": {
   "codemirror_mode": {
    "name": "ipython",
    "version": 3
   },
   "file_extension": ".py",
   "mimetype": "text/x-python",
   "name": "python",
   "nbconvert_exporter": "python",
   "pygments_lexer": "ipython3",
   "version": "3.9.7"
  }
 },
 "nbformat": 4,
 "nbformat_minor": 5
}
